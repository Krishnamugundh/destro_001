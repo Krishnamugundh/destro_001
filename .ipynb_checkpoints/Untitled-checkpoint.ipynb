{
 "cells": [
  {
   "cell_type": "markdown",
   "id": "f4a0588f-e5b5-4d4d-83b5-5e661860e9f1",
   "metadata": {
    "jp-MarkdownHeadingCollapsed": true
   },
   "source": [
    "<H1>Main Page</H1>"
   ]
  },
  {
   "cell_type": "code",
   "execution_count": 1,
   "id": "2f1a6371-0620-4ee7-9f1a-524babaa060e",
   "metadata": {},
   "outputs": [],
   "source": [
    "import pandas as pd"
   ]
  },
  {
   "cell_type": "code",
   "execution_count": 2,
   "id": "452c7d69-e2d3-4f9a-a63e-a58c95bc3b1a",
   "metadata": {},
   "outputs": [],
   "source": [
    "df1 = pd.DataFrame(\n",
    "    {\n",
    "        'Name':['Krishna','Herry','Jerry','Oggy'],\n",
    "        'Age': [21,32,41,28],\n",
    "        'Marks':[92,94,71,84],\n",
    "        'Grade':['S','S','B','A']\n",
    "    }\n",
    ")"
   ]
  },
  {
   "cell_type": "code",
   "execution_count": 3,
   "id": "6d5f62cd-376c-49b9-8e5b-6c475558480c",
   "metadata": {},
   "outputs": [
    {
     "data": {
      "text/html": [
       "<div>\n",
       "<style scoped>\n",
       "    .dataframe tbody tr th:only-of-type {\n",
       "        vertical-align: middle;\n",
       "    }\n",
       "\n",
       "    .dataframe tbody tr th {\n",
       "        vertical-align: top;\n",
       "    }\n",
       "\n",
       "    .dataframe thead th {\n",
       "        text-align: right;\n",
       "    }\n",
       "</style>\n",
       "<table border=\"1\" class=\"dataframe\">\n",
       "  <thead>\n",
       "    <tr style=\"text-align: right;\">\n",
       "      <th></th>\n",
       "      <th>Name</th>\n",
       "      <th>Age</th>\n",
       "      <th>Marks</th>\n",
       "      <th>Grade</th>\n",
       "    </tr>\n",
       "  </thead>\n",
       "  <tbody>\n",
       "    <tr>\n",
       "      <th>0</th>\n",
       "      <td>Krishna</td>\n",
       "      <td>21</td>\n",
       "      <td>92</td>\n",
       "      <td>S</td>\n",
       "    </tr>\n",
       "    <tr>\n",
       "      <th>1</th>\n",
       "      <td>Herry</td>\n",
       "      <td>32</td>\n",
       "      <td>94</td>\n",
       "      <td>S</td>\n",
       "    </tr>\n",
       "    <tr>\n",
       "      <th>2</th>\n",
       "      <td>Jerry</td>\n",
       "      <td>41</td>\n",
       "      <td>71</td>\n",
       "      <td>B</td>\n",
       "    </tr>\n",
       "    <tr>\n",
       "      <th>3</th>\n",
       "      <td>Oggy</td>\n",
       "      <td>28</td>\n",
       "      <td>84</td>\n",
       "      <td>A</td>\n",
       "    </tr>\n",
       "  </tbody>\n",
       "</table>\n",
       "</div>"
      ],
      "text/plain": [
       "      Name  Age  Marks Grade\n",
       "0  Krishna   21     92     S\n",
       "1    Herry   32     94     S\n",
       "2    Jerry   41     71     B\n",
       "3     Oggy   28     84     A"
      ]
     },
     "execution_count": 3,
     "metadata": {},
     "output_type": "execute_result"
    }
   ],
   "source": [
    "df1"
   ]
  },
  {
   "cell_type": "code",
   "execution_count": 4,
   "id": "617e52db-c56b-4df5-9fee-87fef7c5db09",
   "metadata": {},
   "outputs": [],
   "source": [
    "df1.to_csv(\"modal_ago.csv\")"
   ]
  },
  {
   "cell_type": "code",
   "execution_count": 5,
   "id": "c3276213-043a-4829-a961-2181f9135128",
   "metadata": {},
   "outputs": [],
   "source": [
    "df1['Attendance'] = [71,93,81,93]"
   ]
  },
  {
   "cell_type": "code",
   "execution_count": 6,
   "id": "545a4cfc-bdfb-495e-98fe-0710b74b105a",
   "metadata": {},
   "outputs": [
    {
     "data": {
      "text/html": [
       "<div>\n",
       "<style scoped>\n",
       "    .dataframe tbody tr th:only-of-type {\n",
       "        vertical-align: middle;\n",
       "    }\n",
       "\n",
       "    .dataframe tbody tr th {\n",
       "        vertical-align: top;\n",
       "    }\n",
       "\n",
       "    .dataframe thead th {\n",
       "        text-align: right;\n",
       "    }\n",
       "</style>\n",
       "<table border=\"1\" class=\"dataframe\">\n",
       "  <thead>\n",
       "    <tr style=\"text-align: right;\">\n",
       "      <th></th>\n",
       "      <th>Name</th>\n",
       "      <th>Age</th>\n",
       "      <th>Marks</th>\n",
       "      <th>Grade</th>\n",
       "      <th>Attendance</th>\n",
       "    </tr>\n",
       "  </thead>\n",
       "  <tbody>\n",
       "    <tr>\n",
       "      <th>0</th>\n",
       "      <td>Krishna</td>\n",
       "      <td>21</td>\n",
       "      <td>92</td>\n",
       "      <td>S</td>\n",
       "      <td>71</td>\n",
       "    </tr>\n",
       "    <tr>\n",
       "      <th>1</th>\n",
       "      <td>Herry</td>\n",
       "      <td>32</td>\n",
       "      <td>94</td>\n",
       "      <td>S</td>\n",
       "      <td>93</td>\n",
       "    </tr>\n",
       "    <tr>\n",
       "      <th>2</th>\n",
       "      <td>Jerry</td>\n",
       "      <td>41</td>\n",
       "      <td>71</td>\n",
       "      <td>B</td>\n",
       "      <td>81</td>\n",
       "    </tr>\n",
       "    <tr>\n",
       "      <th>3</th>\n",
       "      <td>Oggy</td>\n",
       "      <td>28</td>\n",
       "      <td>84</td>\n",
       "      <td>A</td>\n",
       "      <td>93</td>\n",
       "    </tr>\n",
       "  </tbody>\n",
       "</table>\n",
       "</div>"
      ],
      "text/plain": [
       "      Name  Age  Marks Grade  Attendance\n",
       "0  Krishna   21     92     S          71\n",
       "1    Herry   32     94     S          93\n",
       "2    Jerry   41     71     B          81\n",
       "3     Oggy   28     84     A          93"
      ]
     },
     "execution_count": 6,
     "metadata": {},
     "output_type": "execute_result"
    }
   ],
   "source": [
    "df1"
   ]
  },
  {
   "cell_type": "raw",
   "id": "4eb10ffc-b69d-41d9-92d7-b004567d89ee",
   "metadata": {},
   "source": [
    "\tName\tAge\tMarks\tGrade\tAttendance\n",
    "0\tKrishna\t21\t92\t     S\t    71\n",
    "1\tHerry\t32\t94\t     S\t    93\n",
    "2\tJerry\t41\t71\t     B\t    81\n",
    "3\tOggy\t28\t84\t     A      93"
   ]
  },
  {
   "cell_type": "code",
   "execution_count": null,
   "id": "cfbafa4a-20c8-4436-ad6d-97845f03d480",
   "metadata": {},
   "outputs": [],
   "source": [
    "df1[[df1['Name']=='Krishna' & df1['Age']<30]]['Attendance'] = 90"
   ]
  },
  {
   "cell_type": "markdown",
   "id": "4fccb1b8-146f-4d12-ac2f-0c43c34c0584",
   "metadata": {},
   "source": [
    "<H1>New Page</H1>"
   ]
  },
  {
   "cell_type": "code",
   "execution_count": null,
   "id": "fc3ca354-3c22-4f03-a336-c70f557a2ffd",
   "metadata": {},
   "outputs": [],
   "source": []
  },
  {
   "cell_type": "code",
   "execution_count": null,
   "id": "486f36ac-ef12-4dd8-a66e-8410ff2c6abd",
   "metadata": {},
   "outputs": [],
   "source": []
  },
  {
   "cell_type": "code",
   "execution_count": null,
   "id": "7b7b39c8-67a9-44af-a2e2-f0227b3e01d7",
   "metadata": {},
   "outputs": [],
   "source": []
  }
 ],
 "metadata": {
  "kernelspec": {
   "display_name": "Python 3 (ipykernel)",
   "language": "python",
   "name": "python3"
  },
  "language_info": {
   "codemirror_mode": {
    "name": "ipython",
    "version": 3
   },
   "file_extension": ".py",
   "mimetype": "text/x-python",
   "name": "python",
   "nbconvert_exporter": "python",
   "pygments_lexer": "ipython3",
   "version": "3.11.9"
  }
 },
 "nbformat": 4,
 "nbformat_minor": 5
}
